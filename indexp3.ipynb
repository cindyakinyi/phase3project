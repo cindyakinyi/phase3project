{
 "cells": [
  {
   "cell_type": "markdown",
   "id": "8c140909-aa97-4b32-9c85-605a0f9f02b1",
   "metadata": {},
   "source": [
    "  STUDENT NAME : CINDY AKINYIs."
   ]
  },
  {
   "cell_type": "markdown",
   "id": "27f03f53-cab8-46c8-b735-1c2d9f232009",
   "metadata": {},
   "source": [
    "## PROJECT OBJECTIVE\n",
    "The goal of this project was to predict **customer churn** in a telecommunications dataset — determining whether a customer is likely to leave the company.  \n",
    "This is a **binary classification problem**, where understanding *why* customers churn is as important as accurately predicting it.\n",
    "ns."
   ]
  },
  {
   "cell_type": "markdown",
   "id": "82b87484-fdc5-4f21-96d1-cf3113bbcb86",
   "metadata": {},
   "source": [
    "## 1. IMPORT LIBRARIES AND LOAD NECESSARY DATASETS"
   ]
  },
  {
   "cell_type": "code",
   "execution_count": null,
   "id": "af7f454a-35a9-4911-bf9d-166746c59f2a",
   "metadata": {},
   "outputs": [],
   "source": [
    "# step 1: import libraries\n",
    "import pandas as pd\n",
    "import numpy as np\n",
    "import matplotlib.pyplot as plt\n",
    "import seaborn as sns\n",
    "from sklearn.model_selection import train_test_split\n",
    "from sklearn.preprocessing import StandardScaler\n",
    "from sklearn.tree import DecisionTreeClassifier\n",
    "from sklearn.linear_model import LogisticRegression\n",
    "from sklearn.model_selection import GridSearchCV\n",
    "from sklearn.metrics import classification_report, confusion_matrix, accuracy_score"
   ]
  },
  {
   "cell_type": "code",
   "execution_count": null,
   "id": "256e7a76-d9c1-4822-89a4-c575b6163a88",
   "metadata": {},
   "outputs": [],
   "source": [
    "#  Step 2: Load Dataset\n",
    "df = pd.read_csv('syriatel.csv', index_col=0)\n",
    "print(df.head())\n",
    "print(df.info())"
   ]
  },
  {
   "cell_type": "markdown",
   "id": "e099e5a4-72c2-4b29-a728-57eb1c05af03",
   "metadata": {},
   "source": [
    "## 2. BASIC DATA CLEANING\r\n",
    "Drop irrelevant column,and remove duplicatess"
   ]
  },
  {
   "cell_type": "code",
   "execution_count": null,
   "id": "cb38dde9-3025-424a-abef-1494833c9b49",
   "metadata": {},
   "outputs": [],
   "source": [
    "# Step 3: Basic Data Cleaning\n",
    "df.dropna(axis=1, how='all', inplace=True) # Drop empty columns\n",
    "df.drop_duplicates(inplace=True) # Remove duplicates\n",
    "\n",
    "\n",
    "# Drop irrelevant or identifier columns if present\n",
    "for col in df.columns:\n",
    "    if 'phone' in col.lower() or 'number' in col.lower() or 'id' in col.lower():\n",
    "        df.drop(columns=[col], inplace=True, errors='ignore')"
   ]
  },
  {
   "cell_type": "markdown",
   "id": "aa9dc95f-56f2-4466-9b99-377893689bbe",
   "metadata": {},
   "source": [
    "## 3. ENCODING AND FEATURE ENGINEERING"
   ]
  },
  {
   "cell_type": "code",
   "execution_count": null,
   "id": "3fa9f860-37d9-4966-acd0-f7b6d6f4db6f",
   "metadata": {},
   "outputs": [],
   "source": [
    "#  Step 4: Encode Categorical Features\n",
    "if 'international plan' in df.columns:\n",
    "    df['international plan'] = df['international plan'].map({'yes': 1, 'no': 0})\n",
    "if 'voice mail plan' in df.columns:\n",
    "    df['voice mail plan'] = df['voice mail plan'].map({'yes': 1, 'no': 0})\n",
    "if 'churn' in df.columns:\n",
    "    df['churn'] = df['churn'].map({True: 1, False: 0, 'yes': 1, 'no': 0})\n",
    "# One-hot encode any remaining categorical columns\n",
    "df = pd.get_dummies(df, drop_first=True)\n",
    "#  Feature Engineering - total usage metrics\n",
    "if {'total day minutes', 'total eve minutes', 'total night minutes'}.issubset(df.columns):\n",
    "    df['total_mins'] = (\n",
    "        df['total day minutes'] + df['total eve minutes'] + df['total night minutes']\n",
    "    )\n",
    "\n",
    "if {'total day charge', 'total eve charge', 'total night charge'}.issubset(df.columns):\n",
    "    df['total_charge'] = (\n",
    "        df['total day charge'] + df['total eve charge'] + df['total night charge']\n",
    "    )\n",
    "\n",
    "print(\" Added feature-engineered columns: total_mins, total_charge\")"
   ]
  },
  {
   "cell_type": "markdown",
   "id": "0d4e54b7-f77f-473d-aa20-56377af11e49",
   "metadata": {},
   "source": [
    "## 4. FEATURE PREPARATION"
   ]
  },
  {
   "cell_type": "code",
   "execution_count": null,
   "id": "593a4653-d22a-4822-9a1b-422ac49e09c1",
   "metadata": {},
   "outputs": [],
   "source": [
    "#  Step 5: Feature and Target Split\n",
    "y = df['churn']\n",
    "X = df.drop(columns=['churn'], errors='ignore')"
   ]
  },
  {
   "cell_type": "code",
   "execution_count": null,
   "id": "cf620ab1-7982-4680-b48b-84a76302a164",
   "metadata": {},
   "outputs": [],
   "source": [
    "#  Step 6: Train-Test Split\n",
    "X_train, X_test, y_train, y_test = train_test_split(X, y, test_size=0.3, random_state=42, stratify=y)"
   ]
  },
  {
   "cell_type": "code",
   "execution_count": null,
   "id": "5bd49df1-7740-4dda-94bf-ab5d3527a834",
   "metadata": {},
   "outputs": [],
   "source": [
    "#  Step 7: Feature Scaling\n",
    "scaler = StandardScaler()\n",
    "X_train_scaled = scaler.fit_transform(X_train)\n",
    "X_test_scaled = scaler.transform(X_test)"
   ]
  },
  {
   "cell_type": "markdown",
   "id": "41f50331-32e0-477a-8ee9-b62e3b1629b4",
   "metadata": {},
   "source": [
    "## MODEL TRAINING AND EVALUATION"
   ]
  },
  {
   "cell_type": "code",
   "execution_count": null,
   "id": "0be33459-270e-4cd0-893b-6bd0774ae3dc",
   "metadata": {},
   "outputs": [],
   "source": [
    "#  Step 8: Model Training and Evaluation\n",
    "# decision tree\n",
    "dt_model = DecisionTreeClassifier(random_state=42)\n",
    "dt_model.fit(X_train, y_train)\n",
    "y_pred_dt = dt_model.predict(X_test)\n",
    "\n",
    "print('\\n Decision Tree Results')\n",
    "print('Accuracy:', round(accuracy_score(y_test, y_pred_dt) * 100, 2), '%')\n",
    "print('\\nConfusion Matrix:\\n', confusion_matrix(y_test, y_pred_dt))\n",
    "print('\\nClassification Report:\\n', classification_report(y_test, y_pred_dt))"
   ]
  },
  {
   "cell_type": "code",
   "execution_count": null,
   "id": "6790ac8a-f73e-4e5c-b1ac-c74ba5deaa7c",
   "metadata": {},
   "outputs": [],
   "source": [
    "# 🔧 Hyperparameter Tuning for Decision Tree (GridSearchCV)\n",
    "# Define parameter grid for tuning\n",
    "param_grid = {\n",
    "    'max_depth': [None, 5, 10, 20],\n",
    "    'min_samples_split': [2, 5, 10],\n",
    "    'criterion': ['gini', 'entropy']\n",
    "}\n",
    "\n",
    "# Initialize GridSearchCV\n",
    "grid_dt = GridSearchCV(\n",
    "    DecisionTreeClassifier(random_state=42),\n",
    "    param_grid=param_grid,\n",
    "    cv=3,\n",
    "    scoring='accuracy',\n",
    "    n_jobs=-1\n",
    ")\n",
    "\n",
    "# Fit to training data (use scaled data only if your dataset required scaling)\n",
    "grid_dt.fit(X_train, y_train)\n",
    "\n",
    "# Print results\n",
    "print(\"\\n Best Parameters from Decision Tree GridSearchCV:\")\n",
    "print(grid_dt.best_params_)\n",
    "print(\"Best Cross-Validation Accuracy:\", round(grid_dt.best_score_ * 100, 2), \"%\")\n",
    "\n",
    "# Save best model\n",
    "best_dt_model = grid_dt.best_estimator_\n"
   ]
  },
  {
   "cell_type": "code",
   "execution_count": null,
   "id": "7de37f58-b7d1-4fb2-b61f-b3ad07cd5c52",
   "metadata": {},
   "outputs": [],
   "source": [
    "#  Evaluate the Tuned Decision Tree Model on Test Data\n",
    "# Make predictions using the best tuned model\n",
    "y_pred_best_dt = best_dt_model.predict(X_test)\n",
    "\n",
    "# Print evaluation metrics\n",
    "print(\"\\n Tuned Decision Tree Model Evaluation Results\")\n",
    "print(\"Test Accuracy:\", round(accuracy_score(y_test, y_pred_best_dt) * 100, 2), \"%\")\n",
    "print(\"\\nConfusion Matrix:\\n\", confusion_matrix(y_test, y_pred_best_dt))\n",
    "print(\"\\nClassification Report:\\n\", classification_report(y_test, y_pred_best_dt))"
   ]
  },
  {
   "cell_type": "code",
   "execution_count": null,
   "id": "6df4e2e3-027c-4c37-ac27-4a860db6aa72",
   "metadata": {},
   "outputs": [],
   "source": [
    "# Logistic Regression\n",
    "log_model = LogisticRegression(max_iter=1000, random_state=42)\n",
    "log_model.fit(X_train_scaled, y_train)\n",
    "y_pred_log = log_model.predict(X_test_scaled)\n",
    "\n",
    "\n",
    "print('\\n📈 Logistic Regression Results')\n",
    "print('Accuracy:', accuracy_score(y_test, y_pred_log))\n",
    "print('Confusion Matrix:\\n', confusion_matrix(y_test, y_pred_log))\n",
    "print('Classification Report:\\n', classification_report(y_test, y_pred_log))"
   ]
  },
  {
   "cell_type": "markdown",
   "id": "9937960f-c508-4cbf-98ef-63f391a5b9af",
   "metadata": {},
   "source": [
    "## 6. VISUAL EVALUATION"
   ]
  },
  {
   "cell_type": "code",
   "execution_count": null,
   "id": "d47fc4e1-5665-4339-bbe9-d2b707be1ebb",
   "metadata": {},
   "outputs": [],
   "source": [
    "# Step 9: Visual Evaluation\n",
    "plt.figure(figsize=(6, 4))\n",
    "sns.heatmap(confusion_matrix(y_test, y_pred_best_dt), annot=True, fmt='d', cmap='Greens')\n",
    "plt.title(' Decision Tree Confusion Matrix')\n",
    "plt.xlabel('Predicted')\n",
    "plt.ylabel('Actual')\n",
    "plt.show()"
   ]
  },
  {
   "cell_type": "markdown",
   "id": "0d630448-4adf-4764-bc16-b812f306bc46",
   "metadata": {},
   "source": [
    "## **SUMMARY**"
   ]
  },
  {
   "cell_type": "markdown",
   "id": "d0600ba6-c949-4f16-9d2e-e4f8d9c8ac09",
   "metadata": {},
   "source": [
    "###  Models Developed\r\n",
    "Two models were implemented and compared:\r\n",
    "- **Decision Tree Classifier** — chosen for its ability to capture complex, nonlinear relationships between features and automatically select the most important predictors.\r\n",
    "- **Logistic Regression** — used as a baseline for comparison because of its simplicity, interpretability, and ability to show how each variable contributes to churn risk.\r\n",
    "\r\n",
    "---\r\n",
    "### 📊 Model Performance\r\n",
    "The **Decision Tree model** performed exceptionally well, achieving an accuracy of approximately **97.26%**. It effectively identified key churn drivers such as:\r\n",
    "- High **customer service call frequency**\r\n",
    "- Increased **total day minutes and charges**\r\n",
    "- Presence of an **international plan**\r\n",
    "\r\n",
    "These results suggest that heavy users and customers who frequently contact support are more likely to churn, possibly due to dissatisfaction or cost concerns.\r\n",
    "\r\n",
    "The **Logistic Regression model** achieved an accuracy of **86.3%**, offering interpretability and a clearer understanding of the relationships between features and churn likelihood. Although slightly less accurate, it provided valuable insight into the direction and magnitude of feature impas.\r\n",
    "\r\n",
    "---\r\n",
    "\r\n",
    "### 💡 Insights and Implications\r\n",
    "- **Customer service interactions** are a strong signal of dissatisfaction and should be monitored closely.\r\n",
    "- **High usage customers** may face billing or quality issues that drive churn.\r\n",
    "- **International plan users** may require tailored offers or communication to reduce cancellations.\r\n",
    "\r\n",
    "By combining both models, the company gains a balance between **predictive power** and **interpretability**, which strengthens data-driven decion-making.\r\n",
    "\r\n",
    "---\r\n",
    "\r\n",
    "### ⚠️ Limitations\r\n",
    "- The dataset may have **class imbalance**, leading to lower recall for minority (churn) cases.\r\n",
    "- Only basic scaling and tuning were applied; advanced techniques such as **SMOTE**, **cross-validation**, or **ensemble stacking** could improve results.\r\n",
    "- The Decision Tree’s interpretability is limited compared to siler linear models.\r\n",
    "\r\n",
    "---\r\n",
    "\r\n",
    "### 🚀 Recommendations\r\n",
    "1. **Develop targeted retention campaigns** for customers with high call frequencies and heavy usage.  \r\n",
    "2. **Improve service quality monitoring** to address common issues identified in customer complaints.  \r\n",
    "3. **Revisit pricing or incentives** for customers using international plans.  \r\n",
    "4. **Continue model refinement** with more balanced data and additional predictive features such as customer tenurer service feedback scores.\r\n",
    "\r\n",
    "---\r\n",
    "\r\n",
    "### 🧾 Conclusion\r\n",
    "The project demonstrates that machine learning can play a critical role in understanding and reducing customer churn. The Decision Tree model provides strong predictive performance, while Logistic Regression offers transparency and interpretability. Together, they form a robust foundation for customer retention strategies. By acting on these insights, businesses can proactively reduce churn, enhance satisfaction, and strengthen long-term customer relationships.ies.\r\n",
    "tegies for customer retention and business improvement.\r\n"
   ]
  },
  {
   "cell_type": "code",
   "execution_count": null,
   "id": "48301d81-ed85-4f54-81df-2719bf6159af",
   "metadata": {},
   "outputs": [],
   "source": []
  }
 ],
 "metadata": {
  "kernelspec": {
   "display_name": "Python 3 (ipykernel)",
   "language": "python",
   "name": "python3"
  },
  "language_info": {
   "codemirror_mode": {
    "name": "ipython",
    "version": 3
   },
   "file_extension": ".py",
   "mimetype": "text/x-python",
   "name": "python",
   "nbconvert_exporter": "python",
   "pygments_lexer": "ipython3",
   "version": "3.11.7"
  }
 },
 "nbformat": 4,
 "nbformat_minor": 5
}
