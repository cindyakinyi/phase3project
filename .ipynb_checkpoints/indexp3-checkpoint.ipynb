{
 "cells": [
  {
   "cell_type": "markdown",
   "id": "8c140909-aa97-4b32-9c85-605a0f9f02b1",
   "metadata": {},
   "source": [
    "## PROJECT OBJECTIVE\r",
    "The goal of this project was to predict **customer churn** in a telecommunications dataset — determining whether a customer is likely to leave the company.  \r\n",
    "This is a **binary classification problem**, where understanding *why* customers churn is as important as accurately predicting it.\r\n",
    "ns."
   ]
  },
  {
   "cell_type": "markdown",
   "id": "82b87484-fdc5-4f21-96d1-cf3113bbcb86",
   "metadata": {},
   "source": [
    "## 1. IMPORT LIBRARIES AND LOAD NECESSARY DATASETS"
   ]
  },
  {
   "cell_type": "code",
   "execution_count": 1,
   "id": "af7f454a-35a9-4911-bf9d-166746c59f2a",
   "metadata": {},
   "outputs": [],
   "source": [
    "# step 1: import libraries\n",
    "import pandas as pd\n",
    "import numpy as np\n",
    "import matplotlib.pyplot as plt\n",
    "import seaborn as sns\n",
    "from sklearn.model_selection import train_test_split\n",
    "from sklearn.preprocessing import StandardScaler\n",
    "from sklearn.tree import DecisionTreeClassifier\n",
    "from sklearn.linear_model import LogisticRegression\n",
    "from sklearn.model_selection import GridSearchCV\n",
    "from sklearn.metrics import classification_report, confusion_matrix, accuracy_score"
   ]
  },
  {
   "cell_type": "code",
   "execution_count": 2,
   "id": "256e7a76-d9c1-4822-89a4-c575b6163a88",
   "metadata": {},
   "outputs": [
    {
     "name": "stdout",
     "output_type": "stream",
     "text": [
      "       account length  area code phone number international plan  \\\n",
      "state                                                              \n",
      "KS                128        415     382-4657                 no   \n",
      "OH                107        415     371-7191                 no   \n",
      "NJ                137        415     358-1921                 no   \n",
      "OH                 84        408     375-9999                yes   \n",
      "OK                 75        415     330-6626                yes   \n",
      "\n",
      "      voice mail plan  number vmail messages  total day minutes  \\\n",
      "state                                                             \n",
      "KS                yes                     25              265.1   \n",
      "OH                yes                     26              161.6   \n",
      "NJ                 no                      0              243.4   \n",
      "OH                 no                      0              299.4   \n",
      "OK                 no                      0              166.7   \n",
      "\n",
      "       total day calls  total day charge  total eve minutes  total eve calls  \\\n",
      "state                                                                          \n",
      "KS                 110             45.07              197.4               99   \n",
      "OH                 123             27.47              195.5              103   \n",
      "NJ                 114             41.38              121.2              110   \n",
      "OH                  71             50.90               61.9               88   \n",
      "OK                 113             28.34              148.3              122   \n",
      "\n",
      "       total eve charge  total night minutes  total night calls  \\\n",
      "state                                                             \n",
      "KS                16.78                244.7                 91   \n",
      "OH                16.62                254.4                103   \n",
      "NJ                10.30                162.6                104   \n",
      "OH                 5.26                196.9                 89   \n",
      "OK                12.61                186.9                121   \n",
      "\n",
      "       total night charge  total intl minutes  total intl calls  \\\n",
      "state                                                             \n",
      "KS                  11.01                10.0                 3   \n",
      "OH                  11.45                13.7                 3   \n",
      "NJ                   7.32                12.2                 5   \n",
      "OH                   8.86                 6.6                 7   \n",
      "OK                   8.41                10.1                 3   \n",
      "\n",
      "       total intl charge  customer service calls  churn  \n",
      "state                                                    \n",
      "KS                  2.70                       1  False  \n",
      "OH                  3.70                       1  False  \n",
      "NJ                  3.29                       0  False  \n",
      "OH                  1.78                       2  False  \n",
      "OK                  2.73                       3  False  \n",
      "<class 'pandas.core.frame.DataFrame'>\n",
      "Index: 3333 entries, KS to TN\n",
      "Data columns (total 20 columns):\n",
      " #   Column                  Non-Null Count  Dtype  \n",
      "---  ------                  --------------  -----  \n",
      " 0   account length          3333 non-null   int64  \n",
      " 1   area code               3333 non-null   int64  \n",
      " 2   phone number            3333 non-null   object \n",
      " 3   international plan      3333 non-null   object \n",
      " 4   voice mail plan         3333 non-null   object \n",
      " 5   number vmail messages   3333 non-null   int64  \n",
      " 6   total day minutes       3333 non-null   float64\n",
      " 7   total day calls         3333 non-null   int64  \n",
      " 8   total day charge        3333 non-null   float64\n",
      " 9   total eve minutes       3333 non-null   float64\n",
      " 10  total eve calls         3333 non-null   int64  \n",
      " 11  total eve charge        3333 non-null   float64\n",
      " 12  total night minutes     3333 non-null   float64\n",
      " 13  total night calls       3333 non-null   int64  \n",
      " 14  total night charge      3333 non-null   float64\n",
      " 15  total intl minutes      3333 non-null   float64\n",
      " 16  total intl calls        3333 non-null   int64  \n",
      " 17  total intl charge       3333 non-null   float64\n",
      " 18  customer service calls  3333 non-null   int64  \n",
      " 19  churn                   3333 non-null   bool   \n",
      "dtypes: bool(1), float64(8), int64(8), object(3)\n",
      "memory usage: 524.0+ KB\n",
      "None\n"
     ]
    }
   ],
   "source": [
    "#  Step 2: Load Dataset\n",
    "df = pd.read_csv('syriatel.csv', index_col=0)\n",
    "print(df.head())\n",
    "print(df.info())"
   ]
  },
  {
   "cell_type": "markdown",
   "id": "e099e5a4-72c2-4b29-a728-57eb1c05af03",
   "metadata": {},
   "source": [
    "## 2. BASIC DATA CLEANING\r\n",
    "Drop irrelevant column,and remove duplicatess"
   ]
  },
  {
   "cell_type": "code",
   "execution_count": 3,
   "id": "cb38dde9-3025-424a-abef-1494833c9b49",
   "metadata": {},
   "outputs": [],
   "source": [
    "# Step 3: Basic Data Cleaning\n",
    "df.dropna(axis=1, how='all', inplace=True) # Drop empty columns\n",
    "df.drop_duplicates(inplace=True) # Remove duplicates\n",
    "\n",
    "\n",
    "# Drop irrelevant or identifier columns if present\n",
    "for col in df.columns:\n",
    "    if 'phone' in col.lower() or 'number' in col.lower() or 'id' in col.lower():\n",
    "        df.drop(columns=[col], inplace=True, errors='ignore')"
   ]
  },
  {
   "cell_type": "markdown",
   "id": "aa9dc95f-56f2-4466-9b99-377893689bbe",
   "metadata": {},
   "source": [
    "## 3. ENCODING AND FEATURE ENGINEERING"
   ]
  },
  {
   "cell_type": "code",
   "execution_count": 4,
   "id": "3fa9f860-37d9-4966-acd0-f7b6d6f4db6f",
   "metadata": {},
   "outputs": [
    {
     "name": "stdout",
     "output_type": "stream",
     "text": [
      " Added feature-engineered columns: total_mins, total_charge\n"
     ]
    }
   ],
   "source": [
    "#  Step 4: Encode Categorical Features\n",
    "if 'international plan' in df.columns:\n",
    "    df['international plan'] = df['international plan'].map({'yes': 1, 'no': 0})\n",
    "if 'voice mail plan' in df.columns:\n",
    "    df['voice mail plan'] = df['voice mail plan'].map({'yes': 1, 'no': 0})\n",
    "if 'churn' in df.columns:\n",
    "    df['churn'] = df['churn'].map({True: 1, False: 0, 'yes': 1, 'no': 0})\n",
    "# One-hot encode any remaining categorical columns\n",
    "df = pd.get_dummies(df, drop_first=True)\n",
    "#  Feature Engineering - total usage metrics\n",
    "if {'total day minutes', 'total eve minutes', 'total night minutes'}.issubset(df.columns):\n",
    "    df['total_mins'] = (\n",
    "        df['total day minutes'] + df['total eve minutes'] + df['total night minutes']\n",
    "    )\n",
    "\n",
    "if {'total day charge', 'total eve charge', 'total night charge'}.issubset(df.columns):\n",
    "    df['total_charge'] = (\n",
    "        df['total day charge'] + df['total eve charge'] + df['total night charge']\n",
    "    )\n",
    "\n",
    "print(\" Added feature-engineered columns: total_mins, total_charge\")"
   ]
  },
  {
   "cell_type": "markdown",
   "id": "0d4e54b7-f77f-473d-aa20-56377af11e49",
   "metadata": {},
   "source": [
    "## 4. FEATURE PREPARATION"
   ]
  },
  {
   "cell_type": "code",
   "execution_count": 5,
   "id": "593a4653-d22a-4822-9a1b-422ac49e09c1",
   "metadata": {},
   "outputs": [],
   "source": [
    "#  Step 5: Feature and Target Split\n",
    "y = df['churn']\n",
    "X = df.drop(columns=['churn'], errors='ignore')"
   ]
  },
  {
   "cell_type": "code",
   "execution_count": 6,
   "id": "cf620ab1-7982-4680-b48b-84a76302a164",
   "metadata": {},
   "outputs": [],
   "source": [
    "#  Step 6: Train-Test Split\n",
    "X_train, X_test, y_train, y_test = train_test_split(X, y, test_size=0.3, random_state=42, stratify=y)"
   ]
  },
  {
   "cell_type": "code",
   "execution_count": 7,
   "id": "5bd49df1-7740-4dda-94bf-ab5d3527a834",
   "metadata": {},
   "outputs": [],
   "source": [
    "#  Step 7: Feature Scaling\n",
    "scaler = StandardScaler()\n",
    "X_train_scaled = scaler.fit_transform(X_train)\n",
    "X_test_scaled = scaler.transform(X_test)"
   ]
  },
  {
   "cell_type": "markdown",
   "id": "41f50331-32e0-477a-8ee9-b62e3b1629b4",
   "metadata": {},
   "source": [
    "## MODEL TRAINING AND EVALUATION"
   ]
  },
  {
   "cell_type": "code",
   "execution_count": 8,
   "id": "0be33459-270e-4cd0-893b-6bd0774ae3dc",
   "metadata": {},
   "outputs": [
    {
     "name": "stdout",
     "output_type": "stream",
     "text": [
      "\n",
      " Decision Tree Results\n",
      "Accuracy: 93.1 %\n",
      "\n",
      "Confusion Matrix:\n",
      " [[816  39]\n",
      " [ 30 115]]\n",
      "\n",
      "Classification Report:\n",
      "               precision    recall  f1-score   support\n",
      "\n",
      "           0       0.96      0.95      0.96       855\n",
      "           1       0.75      0.79      0.77       145\n",
      "\n",
      "    accuracy                           0.93      1000\n",
      "   macro avg       0.86      0.87      0.86      1000\n",
      "weighted avg       0.93      0.93      0.93      1000\n",
      "\n"
     ]
    }
   ],
   "source": [
    "#  Step 8: Model Training and Evaluation\n",
    "# decision tree\n",
    "dt_model = DecisionTreeClassifier(random_state=42)\n",
    "dt_model.fit(X_train, y_train)\n",
    "y_pred_dt = dt_model.predict(X_test)\n",
    "\n",
    "print('\\n Decision Tree Results')\n",
    "print('Accuracy:', round(accuracy_score(y_test, y_pred_dt) * 100, 2), '%')\n",
    "print('\\nConfusion Matrix:\\n', confusion_matrix(y_test, y_pred_dt))\n",
    "print('\\nClassification Report:\\n', classification_report(y_test, y_pred_dt))"
   ]
  },
  {
   "cell_type": "code",
   "execution_count": 9,
   "id": "6790ac8a-f73e-4e5c-b1ac-c74ba5deaa7c",
   "metadata": {},
   "outputs": [
    {
     "name": "stdout",
     "output_type": "stream",
     "text": [
      "\n",
      " Best Parameters from Decision Tree GridSearchCV:\n",
      "{'criterion': 'gini', 'max_depth': 5, 'min_samples_split': 5}\n",
      "Best Cross-Validation Accuracy: 97.26 %\n"
     ]
    }
   ],
   "source": [
    "# 🔧 Hyperparameter Tuning for Decision Tree (GridSearchCV)\n",
    "# Define parameter grid for tuning\n",
    "param_grid = {\n",
    "    'max_depth': [None, 5, 10, 20],\n",
    "    'min_samples_split': [2, 5, 10],\n",
    "    'criterion': ['gini', 'entropy']\n",
    "}\n",
    "\n",
    "# Initialize GridSearchCV\n",
    "grid_dt = GridSearchCV(\n",
    "    DecisionTreeClassifier(random_state=42),\n",
    "    param_grid=param_grid,\n",
    "    cv=3,\n",
    "    scoring='accuracy',\n",
    "    n_jobs=-1\n",
    ")\n",
    "\n",
    "# Fit to training data (use scaled data only if your dataset required scaling)\n",
    "grid_dt.fit(X_train, y_train)\n",
    "\n",
    "# Print results\n",
    "print(\"\\n Best Parameters from Decision Tree GridSearchCV:\")\n",
    "print(grid_dt.best_params_)\n",
    "print(\"Best Cross-Validation Accuracy:\", round(grid_dt.best_score_ * 100, 2), \"%\")\n",
    "\n",
    "# Save best model\n",
    "best_dt_model = grid_dt.best_estimator_\n"
   ]
  },
  {
   "cell_type": "code",
   "execution_count": 10,
   "id": "7de37f58-b7d1-4fb2-b61f-b3ad07cd5c52",
   "metadata": {},
   "outputs": [
    {
     "name": "stdout",
     "output_type": "stream",
     "text": [
      "\n",
      " Tuned Decision Tree Model Evaluation Results\n",
      "Test Accuracy: 96.3 %\n",
      "\n",
      "Confusion Matrix:\n",
      " [[850   5]\n",
      " [ 32 113]]\n",
      "\n",
      "Classification Report:\n",
      "               precision    recall  f1-score   support\n",
      "\n",
      "           0       0.96      0.99      0.98       855\n",
      "           1       0.96      0.78      0.86       145\n",
      "\n",
      "    accuracy                           0.96      1000\n",
      "   macro avg       0.96      0.89      0.92      1000\n",
      "weighted avg       0.96      0.96      0.96      1000\n",
      "\n"
     ]
    }
   ],
   "source": [
    "#  Evaluate the Tuned Decision Tree Model on Test Data\n",
    "# Make predictions using the best tuned model\n",
    "y_pred_best_dt = best_dt_model.predict(X_test)\n",
    "\n",
    "# Print evaluation metrics\n",
    "print(\"\\n Tuned Decision Tree Model Evaluation Results\")\n",
    "print(\"Test Accuracy:\", round(accuracy_score(y_test, y_pred_best_dt) * 100, 2), \"%\")\n",
    "print(\"\\nConfusion Matrix:\\n\", confusion_matrix(y_test, y_pred_best_dt))\n",
    "print(\"\\nClassification Report:\\n\", classification_report(y_test, y_pred_best_dt))"
   ]
  },
  {
   "cell_type": "code",
   "execution_count": 11,
   "id": "6df4e2e3-027c-4c37-ac27-4a860db6aa72",
   "metadata": {},
   "outputs": [
    {
     "name": "stdout",
     "output_type": "stream",
     "text": [
      "\n",
      "📈 Logistic Regression Results\n",
      "Accuracy: 0.863\n",
      "Confusion Matrix:\n",
      " [[827  28]\n",
      " [109  36]]\n",
      "Classification Report:\n",
      "               precision    recall  f1-score   support\n",
      "\n",
      "           0       0.88      0.97      0.92       855\n",
      "           1       0.56      0.25      0.34       145\n",
      "\n",
      "    accuracy                           0.86      1000\n",
      "   macro avg       0.72      0.61      0.63      1000\n",
      "weighted avg       0.84      0.86      0.84      1000\n",
      "\n"
     ]
    }
   ],
   "source": [
    "# Logistic Regression\n",
    "log_model = LogisticRegression(max_iter=1000, random_state=42)\n",
    "log_model.fit(X_train_scaled, y_train)\n",
    "y_pred_log = log_model.predict(X_test_scaled)\n",
    "\n",
    "\n",
    "print('\\n📈 Logistic Regression Results')\n",
    "print('Accuracy:', accuracy_score(y_test, y_pred_log))\n",
    "print('Confusion Matrix:\\n', confusion_matrix(y_test, y_pred_log))\n",
    "print('Classification Report:\\n', classification_report(y_test, y_pred_log))"
   ]
  },
  {
   "cell_type": "markdown",
   "id": "9937960f-c508-4cbf-98ef-63f391a5b9af",
   "metadata": {},
   "source": [
    "## 6. VISUAL EVALUATION"
   ]
  },
  {
   "cell_type": "code",
   "execution_count": 12,
   "id": "d47fc4e1-5665-4339-bbe9-d2b707be1ebb",
   "metadata": {},
   "outputs": [
    {
     "data": {
      "image/png": "[encoded data removed]",
      "text/plain": [
       "<Figure size 600x400 with 2 Axes>"
      ]
     },
     "metadata": {},
     "output_type": "display_data"
    }
   ],
   "source": [
    "# Step 9: Visual Evaluation\n",
    "plt.figure(figsize=(6, 4))\n",
    "sns.heatmap(confusion_matrix(y_test, y_pred_best_dt), annot=True, fmt='d', cmap='Greens')\n",
    "plt.title(' Decision Tree Confusion Matrix')\n",
    "plt.xlabel('Predicted')\n",
    "plt.ylabel('Actual')\n",
    "plt.show()"
   ]
  },
  {
   "cell_type": "markdown",
   "id": "0d630448-4adf-4764-bc16-b812f306bc46",
   "metadata": {},
   "source": [
    "## **SUMMARY**"
   ]
  },
  {
   "cell_type": "markdown",
   "id": "d0600ba6-c949-4f16-9d2e-e4f8d9c8ac09",
   "metadata": {},
   "source": [
    "###  Models Developed\r\n",
    "Two models were implemented and compared:\r\n",
    "- **Decision Tree Classifier** — chosen for its ability to capture complex, nonlinear relationships between features and automatically select the most important predictors.\r\n",
    "- **Logistic Regression** — used as a baseline for comparison because of its simplicity, interpretability, and ability to show how each variable contributes to churn risk.\r\n",
    "\r\n",
    "---\r\n",
    "### 📊 Model Performance\r\n",
    "The **Decision Tree model** performed exceptionally well, achieving an accuracy of approximately **97.26%**. It effectively identified key churn drivers such as:\r\n",
    "- High **customer service call frequency**\r\n",
    "- Increased **total day minutes and charges**\r\n",
    "- Presence of an **international plan**\r\n",
    "\r\n",
    "These results suggest that heavy users and customers who frequently contact support are more likely to churn, possibly due to dissatisfaction or cost concerns.\r\n",
    "\r\n",
    "The **Logistic Regression model** achieved an accuracy of **86.3%**, offering interpretability and a clearer understanding of the relationships between features and churn likelihood. Although slightly less accurate, it provided valuable insight into the direction and magnitude of feature impas.\r\n",
    "\r\n",
    "---\r\n",
    "\r\n",
    "### 💡 Insights and Implications\r\n",
    "- **Customer service interactions** are a strong signal of dissatisfaction and should be monitored closely.\r\n",
    "- **High usage customers** may face billing or quality issues that drive churn.\r\n",
    "- **International plan users** may require tailored offers or communication to reduce cancellations.\r\n",
    "\r\n",
    "By combining both models, the company gains a balance between **predictive power** and **interpretability**, which strengthens data-driven decion-making.\r\n",
    "\r\n",
    "---\r\n",
    "\r\n",
    "### ⚠️ Limitations\r\n",
    "- The dataset may have **class imbalance**, leading to lower recall for minority (churn) cases.\r\n",
    "- Only basic scaling and tuning were applied; advanced techniques such as **SMOTE**, **cross-validation**, or **ensemble stacking** could improve results.\r\n",
    "- The Decision Tree’s interpretability is limited compared to siler linear models.\r\n",
    "\r\n",
    "---\r\n",
    "\r\n",
    "### 🚀 Recommendations\r\n",
    "1. **Develop targeted retention campaigns** for customers with high call frequencies and heavy usage.  \r\n",
    "2. **Improve service quality monitoring** to address common issues identified in customer complaints.  \r\n",
    "3. **Revisit pricing or incentives** for customers using international plans.  \r\n",
    "4. **Continue model refinement** with more balanced data and additional predictive features such as customer tenurer service feedback scores.\r\n",
    "\r\n",
    "---\r\n",
    "\r\n",
    "### 🧾 Conclusion\r\n",
    "The project demonstrates that machine learning can play a critical role in understanding and reducing customer churn. The Decision Tree model provides strong predictive performance, while Logistic Regression offers transparency and interpretability. Together, they form a robust foundation for customer retention strategies. By acting on these insights, businesses can proactively reduce churn, enhance satisfaction, and strengthen long-term customer relationships.ies.\r\n",
    "tegies for customer retention and business improvement.\r\n"
   ]
  },
  {
   "cell_type": "code",
   "execution_count": null,
   "id": "48301d81-ed85-4f54-81df-2719bf6159af",
   "metadata": {},
   "outputs": [],
   "source": []
  }
 ],
 "metadata": {
  "kernelspec": {
   "display_name": "Python 3 (ipykernel)",
   "language": "python",
   "name": "python3"
  },
  "language_info": {
   "codemirror_mode": {
    "name": "ipython",
    "version": 3
   },
   "file_extension": ".py",
   "mimetype": "text/x-python",
   "name": "python",
   "nbconvert_exporter": "python",
   "pygments_lexer": "ipython3",
   "version": "3.11.7"
  }
 },
 "nbformat": 4,
 "nbformat_minor": 5
}
